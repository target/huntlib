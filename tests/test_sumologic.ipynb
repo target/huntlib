{
 "cells": [
  {
   "cell_type": "code",
   "execution_count": 1,
   "metadata": {},
   "outputs": [],
   "source": [
    "from huntlib import sumologic\n",
    "from datetime import datetime, timedelta"
   ]
  },
  {
   "cell_type": "code",
   "execution_count": 2,
   "metadata": {},
   "outputs": [],
   "source": [
    "_sumo_url = \"https://api.us2.sumologic.com/api\"\n",
    "# Recommended to put constants and credentials in ~/.huntlibrc (without quotes)\n",
    "#[sumologic]\n",
    "#accessid = xxx\n",
    "#accesskey = xxx\n",
    "\n",
    "# or inline here (with quotes) + as argument in SumologicDF()\n",
    "#_sumo_accessid = \"xxx\"\n",
    "#_sumo_accesskey = \"xxx\""
   ]
  },
  {
   "cell_type": "code",
   "execution_count": 3,
   "metadata": {},
   "outputs": [],
   "source": [
    "e = sumologic.SumologicDF(\n",
    "        url=_sumo_url\n",
    "#        accessid=_sumo_accessid,\n",
    "#        accesskey=_sumo_accesskey,\n",
    "    )"
   ]
  },
  {
   "cell_type": "code",
   "execution_count": 4,
   "metadata": {},
   "outputs": [
    {
     "name": "stdout",
     "output_type": "stream",
     "text": [
      "DONE GATHERING RESULTS\n"
     ]
    }
   ],
   "source": [
    "results = e.search(\"* | count _sourceCategory\", days=0.0001)"
   ]
  },
  {
   "cell_type": "code",
   "execution_count": 5,
   "metadata": {},
   "outputs": [
    {
     "data": {
      "text/plain": [
       "[{'map': {'_count': '591', '_sourcecategory': 'CAT1'}},\n",
       " {'map': {'_count': '1', '_sourcecategory': 'CAT2'}},\n",
       " {'map': {'_count': '457', '_sourcecategory': 'CAT3'}},\n",
       " {'map': {'_count': '51', '_sourcecategory': 'CAT4'}}]"
      ]
     },
     "execution_count": 5,
     "metadata": {},
     "output_type": "execute_result"
    }
   ],
   "source": [
    "results"
   ]
  },
  {
   "cell_type": "code",
   "execution_count": 6,
   "metadata": {},
   "outputs": [
    {
     "name": "stdout",
     "output_type": "stream",
     "text": [
      "DONE GATHERING RESULTS\n"
     ]
    }
   ],
   "source": [
    "results_df = e.search_df(\"* | count _sourceCategory\", days=0.0001)"
   ]
  },
  {
   "cell_type": "code",
   "execution_count": 7,
   "metadata": {},
   "outputs": [
    {
     "data": {
      "text/html": [
       "<div>\n",
       "<style scoped>\n",
       "    .dataframe tbody tr th:only-of-type {\n",
       "        vertical-align: middle;\n",
       "    }\n",
       "\n",
       "    .dataframe tbody tr th {\n",
       "        vertical-align: top;\n",
       "    }\n",
       "\n",
       "    .dataframe thead th {\n",
       "        text-align: right;\n",
       "    }\n",
       "</style>\n",
       "<table border=\"1\" class=\"dataframe\">\n",
       "  <thead>\n",
       "    <tr style=\"text-align: right;\">\n",
       "      <th></th>\n",
       "      <th>map._count</th>\n",
       "      <th>map._sourcecategory</th>\n",
       "    </tr>\n",
       "  </thead>\n",
       "  <tbody>\n",
       "    <tr>\n",
       "      <th>0</th>\n",
       "      <td>625</td>\n",
       "      <td>CAT1</td>\n",
       "    </tr>\n",
       "    <tr>\n",
       "      <th>1</th>\n",
       "      <td>532</td>\n",
       "      <td>CAT2</td>\n",
       "    </tr>\n",
       "    <tr>\n",
       "      <th>2</th>\n",
       "      <td>5</td>\n",
       "      <td>CAT3</td>\n",
       "    </tr>\n",
       "    <tr>\n",
       "      <th>4</th>\n",
       "      <td>25</td>\n",
       "      <td>CAT4</td>\n",
       "    </tr>\n",
       "  </tbody>\n",
       "</table>\n",
       "</div>"
      ],
      "text/plain": [
       "   map._count                 map._sourcecategory\n",
       "0         625                                CAT1\n",
       "1         532                                CAT2\n",
       "2           5                                CAT3\n",
       "4          25                                CAT4"
      ]
     },
     "execution_count": 7,
     "metadata": {},
     "output_type": "execute_result"
    }
   ],
   "source": [
    "results_df"
   ]
  },
  {
   "cell_type": "code",
   "execution_count": 8,
   "metadata": {},
   "outputs": [
    {
     "name": "stdout",
     "output_type": "stream",
     "text": [
      "DONE GATHERING RESULTS\n"
     ]
    }
   ],
   "source": [
    "results_df2 = e.search_df(\"_index=WINDOWS | count _sourceCategory,hostname\",\n",
    "                start_time=datetime.now() - timedelta(days=6.001),\n",
    "                end_time=datetime.now() - timedelta(days=6)\n",
    "                        )"
   ]
  },
  {
   "cell_type": "code",
   "execution_count": 9,
   "metadata": {},
   "outputs": [
    {
     "data": {
      "text/html": [
       "<div>\n",
       "<style scoped>\n",
       "    .dataframe tbody tr th:only-of-type {\n",
       "        vertical-align: middle;\n",
       "    }\n",
       "\n",
       "    .dataframe tbody tr th {\n",
       "        vertical-align: top;\n",
       "    }\n",
       "\n",
       "    .dataframe thead th {\n",
       "        text-align: right;\n",
       "    }\n",
       "</style>\n",
       "<table border=\"1\" class=\"dataframe\">\n",
       "  <thead>\n",
       "    <tr style=\"text-align: right;\">\n",
       "      <th></th>\n",
       "      <th>map.hostname</th>\n",
       "      <th>map._count</th>\n",
       "      <th>map._sourcecategory</th>\n",
       "    </tr>\n",
       "  </thead>\n",
       "  <tbody>\n",
       "    <tr>\n",
       "      <th>0</th>\n",
       "      <td>host1</td>\n",
       "      <td>1</td>\n",
       "      <td>WINDOWS</td>\n",
       "    </tr>\n",
       "    <tr>\n",
       "      <th>1</th>\n",
       "      <td>host2</td>\n",
       "      <td>16</td>\n",
       "      <td>WINDOWS</td>\n",
       "    </tr>\n",
       "    <tr>\n",
       "      <th>2</th>\n",
       "      <td>host3</td>\n",
       "      <td>65</td>\n",
       "      <td>WINDOWS</td>\n",
       "    </tr>\n",
       "    <tr>\n",
       "      <th>3</th>\n",
       "      <td>host4</td>\n",
       "      <td>8</td>\n",
       "      <td>WINDOWS</td>\n",
       "    </tr>\n",
       "  </tbody>\n",
       "</table>\n",
       "<p>4 rows × 3 columns</p>\n",
       "</div>"
      ],
      "text/plain": [
       "                             map.hostname map._count     map._sourcecategory\n",
       "0                                   host1          1                 WINDOWS\n",
       "1                                   host2         16                 WINDOWS\n",
       "2                                   host3         65                 WINDOWS\n",
       "3                                   host4          8                 WINDOWS\n",
       "\n",
       "[4 rows x 3 columns]"
      ]
     },
     "execution_count": 9,
     "metadata": {},
     "output_type": "execute_result"
    }
   ],
   "source": [
    "results_df2"
   ]
  },
  {
   "cell_type": "code",
   "execution_count": 10,
   "metadata": {},
   "outputs": [
    {
     "name": "stdout",
     "output_type": "stream",
     "text": [
      "DONE GATHERING RESULTS\n"
     ]
    }
   ],
   "source": [
    "results_df3 = e.search_df(\"_index=WINDOWS | count _sourceCategory,hostname\",\n",
    "                start_time=datetime.now() - timedelta(days=6.001),\n",
    "                end_time=datetime.now() - timedelta(days=6),\n",
    "                export=True,\n",
    "                export_path=\"test.xlsx\"\n",
    "                        )"
   ]
  },
  {
   "cell_type": "code",
   "execution_count": 11,
   "metadata": {},
   "outputs": [
    {
     "data": {
      "text/html": [
       "<div>\n",
       "<style scoped>\n",
       "    .dataframe tbody tr th:only-of-type {\n",
       "        vertical-align: middle;\n",
       "    }\n",
       "\n",
       "    .dataframe tbody tr th {\n",
       "        vertical-align: top;\n",
       "    }\n",
       "\n",
       "    .dataframe thead th {\n",
       "        text-align: right;\n",
       "    }\n",
       "</style>\n",
       "<table border=\"1\" class=\"dataframe\">\n",
       "  <thead>\n",
       "    <tr style=\"text-align: right;\">\n",
       "      <th></th>\n",
       "      <th>map.hostname</th>\n",
       "      <th>map._count</th>\n",
       "      <th>map._sourcecategory</th>\n",
       "    </tr>\n",
       "  </thead>\n",
       "  <tbody>\n",
       "    <tr>\n",
       "      <th>0</th>\n",
       "      <td>host1</td>\n",
       "      <td>1</td>\n",
       "      <td>WINDOWS</td>\n",
       "    </tr>\n",
       "    <tr>\n",
       "      <th>1</th>\n",
       "      <td>host2</td>\n",
       "      <td>16</td>\n",
       "      <td>WINDOWS</td>\n",
       "    </tr>\n",
       "    <tr>\n",
       "      <th>2</th>\n",
       "      <td>host3</td>\n",
       "      <td>65</td>\n",
       "      <td>WINDOWS</td>\n",
       "    </tr>\n",
       "    <tr>\n",
       "      <th>3</th>\n",
       "      <td>host4</td>\n",
       "      <td>8</td>\n",
       "      <td>WINDOWS</td>\n",
       "    </tr>\n",
       "  </tbody>\n",
       "</table>\n",
       "<p>4 rows × 3 columns</p>\n",
       "</div>"
      ],
      "text/plain": [
       "                             map.hostname map._count     map._sourcecategory\n",
       "0                                   host1          1                 WINDOWS\n",
       "1                                   host2         16                 WINDOWS\n",
       "2                                   host3         65                 WINDOWS\n",
       "3                                   host4          8                 WINDOWS\n",
       "\n",
       "[4 rows x 3 columns]"
      ]
     },
     "execution_count": 11,
     "metadata": {},
     "output_type": "execute_result"
    }
   ],
   "source": [
    "results_df3"
   ]
  },
  {
   "cell_type": "code",
   "execution_count": 12,
   "metadata": {},
   "outputs": [
    {
     "name": "stdout",
     "output_type": "stream",
     "text": [
      "DONE GATHERING RESULTS\n"
     ]
    }
   ],
   "source": [
    "results_df4 = e.search_df(\"_index=WINDOWS |count _sourceCategory,hostname\",\n",
    "                start_time=datetime.now() - timedelta(days=6.001),\n",
    "                end_time=datetime.now() - timedelta(days=6),\n",
    "                normalize=False\n",
    "                        )"
   ]
  },
  {
   "cell_type": "code",
   "execution_count": 13,
   "metadata": {},
   "outputs": [
    {
     "data": {
     },
     "execution_count": 13,
     "metadata": {},
     "output_type": "execute_result"
    }
   ],
   "source": [
    "results_df4"
   ]
  },
  {
   "cell_type": "code",
   "execution_count": 14,
   "metadata": {},
   "outputs": [
    {
     "name": "stdout",
     "output_type": "stream",
     "text": [
      "DONE GATHERING RESULTS\n"
     ]
    }
   ],
   "source": [
    "results_df5 = e.search_df(\"_index=WINDOWS\",\n",
    "                start_time=datetime.now() - timedelta(days=6.001),\n",
    "                end_time=datetime.now() - timedelta(days=6),\n",
    "                limit=10\n",
    "                        )"
   ]
  },
  {
   "cell_type": "code",
   "execution_count": 15,
   "metadata": {},
   "outputs": [
    {
     "data": {
     },
     "execution_count": 15,
     "metadata": {},
     "output_type": "execute_result"
    }
   ],
   "source": [
    "results_df5"
   ]
  },
  {
   "cell_type": "code",
   "execution_count": null,
   "metadata": {},
   "outputs": [],
   "source": []
  }
 ],
 "metadata": {
  "kernelspec": {
   "display_name": "Python 3",
   "language": "python",
   "name": "python3"
  },
  "language_info": {
   "codemirror_mode": {
    "name": "ipython",
    "version": 3
   },
   "file_extension": ".py",
   "mimetype": "text/x-python",
   "name": "python",
   "nbconvert_exporter": "python",
   "pygments_lexer": "ipython3",
   "version": "3.8.5"
  }
 },
 "nbformat": 4,
 "nbformat_minor": 4
}
